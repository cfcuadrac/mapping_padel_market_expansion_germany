{
 "cells": [
  {
   "cell_type": "code",
   "execution_count": 1,
   "id": "494e3821-b092-401c-b192-da8848ebbe65",
   "metadata": {},
   "outputs": [],
   "source": [
    "import pandas as pd"
   ]
  },
  {
   "cell_type": "code",
   "execution_count": 28,
   "id": "3f573f94-2b3b-4af5-8b15-0483dfe52403",
   "metadata": {},
   "outputs": [
    {
     "name": "stderr",
     "output_type": "stream",
     "text": [
      "/opt/anaconda3/lib/python3.13/site-packages/openpyxl/styles/stylesheet.py:237: UserWarning: Workbook contains no default style, apply openpyxl's default\n",
      "  warn(\"Workbook contains no default style, apply openpyxl's default\")\n"
     ]
    }
   ],
   "source": [
    "population_by_bundesland = pd.read_excel('report_population.xlsx')"
   ]
  },
  {
   "cell_type": "code",
   "execution_count": 29,
   "id": "5b4deebe-7e2d-4443-b686-da5f6af6025c",
   "metadata": {},
   "outputs": [
    {
     "data": {
      "text/html": [
       "<div>\n",
       "<style scoped>\n",
       "    .dataframe tbody tr th:only-of-type {\n",
       "        vertical-align: middle;\n",
       "    }\n",
       "\n",
       "    .dataframe tbody tr th {\n",
       "        vertical-align: top;\n",
       "    }\n",
       "\n",
       "    .dataframe thead th {\n",
       "        text-align: right;\n",
       "    }\n",
       "</style>\n",
       "<table border=\"1\" class=\"dataframe\">\n",
       "  <thead>\n",
       "    <tr style=\"text-align: right;\">\n",
       "      <th></th>\n",
       "      <th>Bevölkerung nach Geschlecht und Altersgruppen (17) -\\nStichtag 31.12. - regionale Ebenen</th>\n",
       "      <th>Unnamed: 1</th>\n",
       "      <th>Unnamed: 2</th>\n",
       "      <th>Unnamed: 3</th>\n",
       "      <th>Unnamed: 4</th>\n",
       "      <th>Unnamed: 5</th>\n",
       "    </tr>\n",
       "  </thead>\n",
       "  <tbody>\n",
       "    <tr>\n",
       "      <th>4</th>\n",
       "      <td>01</td>\n",
       "      <td>Schleswig-Holstein</td>\n",
       "      <td>unter 3 Jahre</td>\n",
       "      <td>69631</td>\n",
       "      <td>35776</td>\n",
       "      <td>33855</td>\n",
       "    </tr>\n",
       "    <tr>\n",
       "      <th>5</th>\n",
       "      <td>NaN</td>\n",
       "      <td>NaN</td>\n",
       "      <td>3 bis unter 6 Jahre</td>\n",
       "      <td>79708</td>\n",
       "      <td>40914</td>\n",
       "      <td>38794</td>\n",
       "    </tr>\n",
       "    <tr>\n",
       "      <th>6</th>\n",
       "      <td>NaN</td>\n",
       "      <td>NaN</td>\n",
       "      <td>6 bis unter 10 Jahre</td>\n",
       "      <td>111893</td>\n",
       "      <td>57302</td>\n",
       "      <td>54591</td>\n",
       "    </tr>\n",
       "    <tr>\n",
       "      <th>7</th>\n",
       "      <td>NaN</td>\n",
       "      <td>NaN</td>\n",
       "      <td>10 bis unter 15 Jahre</td>\n",
       "      <td>136365</td>\n",
       "      <td>69788</td>\n",
       "      <td>66577</td>\n",
       "    </tr>\n",
       "    <tr>\n",
       "      <th>8</th>\n",
       "      <td>NaN</td>\n",
       "      <td>NaN</td>\n",
       "      <td>15 bis unter 18 Jahre</td>\n",
       "      <td>84838</td>\n",
       "      <td>44025</td>\n",
       "      <td>40813</td>\n",
       "    </tr>\n",
       "    <tr>\n",
       "      <th>...</th>\n",
       "      <td>...</td>\n",
       "      <td>...</td>\n",
       "      <td>...</td>\n",
       "      <td>...</td>\n",
       "      <td>...</td>\n",
       "      <td>...</td>\n",
       "    </tr>\n",
       "    <tr>\n",
       "      <th>330</th>\n",
       "      <td>Rheinland-Pfalz (ab 2011): Gebietsstand des Fo...</td>\n",
       "      <td>NaN</td>\n",
       "      <td>NaN</td>\n",
       "      <td>NaN</td>\n",
       "      <td>NaN</td>\n",
       "      <td>NaN</td>\n",
       "    </tr>\n",
       "    <tr>\n",
       "      <th>331</th>\n",
       "      <td>Sachsen-Anhalt (2013): Gebietsstand 01.01.2014</td>\n",
       "      <td>NaN</td>\n",
       "      <td>NaN</td>\n",
       "      <td>NaN</td>\n",
       "      <td>NaN</td>\n",
       "      <td>NaN</td>\n",
       "    </tr>\n",
       "    <tr>\n",
       "      <th>332</th>\n",
       "      <td>© Statistische Ämter des Bundes und der Länder...</td>\n",
       "      <td>NaN</td>\n",
       "      <td>NaN</td>\n",
       "      <td>NaN</td>\n",
       "      <td>NaN</td>\n",
       "      <td>NaN</td>\n",
       "    </tr>\n",
       "    <tr>\n",
       "      <th>333</th>\n",
       "      <td>Dieses Werk ist lizenziert unter der Datenlize...</td>\n",
       "      <td>NaN</td>\n",
       "      <td>NaN</td>\n",
       "      <td>NaN</td>\n",
       "      <td>NaN</td>\n",
       "      <td>NaN</td>\n",
       "    </tr>\n",
       "    <tr>\n",
       "      <th>334</th>\n",
       "      <td>- Namensnennung - Version 2.0. | Stand: 13.10....</td>\n",
       "      <td>NaN</td>\n",
       "      <td>NaN</td>\n",
       "      <td>NaN</td>\n",
       "      <td>NaN</td>\n",
       "      <td>NaN</td>\n",
       "    </tr>\n",
       "  </tbody>\n",
       "</table>\n",
       "<p>331 rows × 6 columns</p>\n",
       "</div>"
      ],
      "text/plain": [
       "    Bevölkerung nach Geschlecht und Altersgruppen (17) -\\nStichtag 31.12. - regionale Ebenen  \\\n",
       "4                                                   01                                         \n",
       "5                                                  NaN                                         \n",
       "6                                                  NaN                                         \n",
       "7                                                  NaN                                         \n",
       "8                                                  NaN                                         \n",
       "..                                                 ...                                         \n",
       "330  Rheinland-Pfalz (ab 2011): Gebietsstand des Fo...                                         \n",
       "331     Sachsen-Anhalt (2013): Gebietsstand 01.01.2014                                         \n",
       "332  © Statistische Ämter des Bundes und der Länder...                                         \n",
       "333  Dieses Werk ist lizenziert unter der Datenlize...                                         \n",
       "334  - Namensnennung - Version 2.0. | Stand: 13.10....                                         \n",
       "\n",
       "             Unnamed: 1             Unnamed: 2 Unnamed: 3 Unnamed: 4  \\\n",
       "4    Schleswig-Holstein          unter 3 Jahre      69631      35776   \n",
       "5                   NaN    3 bis unter 6 Jahre      79708      40914   \n",
       "6                   NaN   6 bis unter 10 Jahre     111893      57302   \n",
       "7                   NaN  10 bis unter 15 Jahre     136365      69788   \n",
       "8                   NaN  15 bis unter 18 Jahre      84838      44025   \n",
       "..                  ...                    ...        ...        ...   \n",
       "330                 NaN                    NaN        NaN        NaN   \n",
       "331                 NaN                    NaN        NaN        NaN   \n",
       "332                 NaN                    NaN        NaN        NaN   \n",
       "333                 NaN                    NaN        NaN        NaN   \n",
       "334                 NaN                    NaN        NaN        NaN   \n",
       "\n",
       "    Unnamed: 5  \n",
       "4        33855  \n",
       "5        38794  \n",
       "6        54591  \n",
       "7        66577  \n",
       "8        40813  \n",
       "..         ...  \n",
       "330        NaN  \n",
       "331        NaN  \n",
       "332        NaN  \n",
       "333        NaN  \n",
       "334        NaN  \n",
       "\n",
       "[331 rows x 6 columns]"
      ]
     },
     "execution_count": 29,
     "metadata": {},
     "output_type": "execute_result"
    }
   ],
   "source": [
    "population_by_bundesland[4::]"
   ]
  },
  {
   "cell_type": "code",
   "execution_count": null,
   "id": "ea770ba8-bbad-48f4-a433-b7d744312a1e",
   "metadata": {},
   "outputs": [],
   "source": [
    "#disposable income of private households per capita in Germany by State web scraping"
   ]
  },
  {
   "cell_type": "code",
   "execution_count": 30,
   "id": "0a111a6e-cda4-4bd9-bc52-b3eade25894b",
   "metadata": {},
   "outputs": [],
   "source": [
    "from bs4 import BeautifulSoup\n",
    "import requests"
   ]
  },
  {
   "cell_type": "code",
   "execution_count": 31,
   "id": "2f437c03-08ed-474c-b9cb-5995766fb5ff",
   "metadata": {},
   "outputs": [],
   "source": [
    "url = 'https://de.statista.com/statistik/daten/studie/255174/umfrage/verfuegbares-einkommen-privater-haushalte-je-einwohner-in-den-bundeslaendern/'\n",
    "headers = {\n",
    "    \"User-Agent\": \"Mozilla/5.0 (Macintosh; Apple M4; Mac OS X 14_7_5) AppleWebKit/537.36 (KHTML, like Gecko) Chrome/136.0.0.0 Safari/537.36\"\n",
    "}\n",
    "response = requests.get(url, headers = headers)\n",
    "soup = BeautifulSoup(response.content, 'html.parser')"
   ]
  },
  {
   "cell_type": "code",
   "execution_count": 43,
   "id": "15ddaba2-de21-49e0-8f0d-c8211b64e972",
   "metadata": {},
   "outputs": [
    {
     "ename": "RuntimeError",
     "evalue": "Couldn't find the data table. The page may require JS rendering or be blocked.",
     "output_type": "error",
     "traceback": [
      "\u001b[0;31m---------------------------------------------------------------------------\u001b[0m",
      "\u001b[0;31mRuntimeError\u001b[0m                              Traceback (most recent call last)",
      "Cell \u001b[0;32mIn[43], line 3\u001b[0m\n\u001b[1;32m      1\u001b[0m table \u001b[38;5;241m=\u001b[39m soup\u001b[38;5;241m.\u001b[39mselect_one(\u001b[38;5;124m\"\u001b[39m\u001b[38;5;124mtable.dataTable\u001b[39m\u001b[38;5;124m\"\u001b[39m)\n\u001b[1;32m      2\u001b[0m \u001b[38;5;28;01mif\u001b[39;00m table \u001b[38;5;129;01mis\u001b[39;00m \u001b[38;5;28;01mNone\u001b[39;00m:\n\u001b[0;32m----> 3\u001b[0m     \u001b[38;5;28;01mraise\u001b[39;00m \u001b[38;5;167;01mRuntimeError\u001b[39;00m(\u001b[38;5;124m\"\u001b[39m\u001b[38;5;124mCouldn\u001b[39m\u001b[38;5;124m'\u001b[39m\u001b[38;5;124mt find the data table. The page may require JS rendering or be blocked.\u001b[39m\u001b[38;5;124m\"\u001b[39m)\n",
      "\u001b[0;31mRuntimeError\u001b[0m: Couldn't find the data table. The page may require JS rendering or be blocked."
     ]
    }
   ],
   "source": [
    "table = soup.select_one(\"table.dataTable\")\n",
    "if table is None:\n",
    "    raise RuntimeError(\"Couldn't find the data table. The page may require JS rendering or be blocked.\")"
   ]
  },
  {
   "cell_type": "code",
   "execution_count": 42,
   "id": "8b85e412-20b1-458f-8564-5297d4a55dca",
   "metadata": {},
   "outputs": [
    {
     "ename": "AttributeError",
     "evalue": "'NoneType' object has no attribute 'select'",
     "output_type": "error",
     "traceback": [
      "\u001b[0;31m---------------------------------------------------------------------------\u001b[0m",
      "\u001b[0;31mAttributeError\u001b[0m                            Traceback (most recent call last)",
      "Cell \u001b[0;32mIn[42], line 3\u001b[0m\n\u001b[1;32m      1\u001b[0m names \u001b[38;5;241m=\u001b[39m [\n\u001b[1;32m      2\u001b[0m     td\u001b[38;5;241m.\u001b[39mget_text(strip\u001b[38;5;241m=\u001b[39m\u001b[38;5;28;01mTrue\u001b[39;00m)\n\u001b[0;32m----> 3\u001b[0m     \u001b[38;5;28;01mfor\u001b[39;00m td \u001b[38;5;129;01min\u001b[39;00m table\u001b[38;5;241m.\u001b[39mselect(\u001b[38;5;124m\"\u001b[39m\u001b[38;5;124mtbody tr td:nth-of-type(1)\u001b[39m\u001b[38;5;124m\"\u001b[39m)\n\u001b[1;32m      4\u001b[0m     \u001b[38;5;28;01mif\u001b[39;00m td\u001b[38;5;241m.\u001b[39mget_text(strip\u001b[38;5;241m=\u001b[39m\u001b[38;5;28;01mTrue\u001b[39;00m)\n\u001b[1;32m      5\u001b[0m ]\n",
      "\u001b[0;31mAttributeError\u001b[0m: 'NoneType' object has no attribute 'select'"
     ]
    }
   ],
   "source": [
    "names = [\n",
    "    td.get_text(strip=True)\n",
    "    for td in table.select(\"tbody tr td:nth-of-type(1)\")\n",
    "    if td.get_text(strip=True)\n",
    "]"
   ]
  },
  {
   "cell_type": "code",
   "execution_count": 52,
   "id": "b7453bc9-1d6d-49af-9887-bdd053446a59",
   "metadata": {},
   "outputs": [],
   "source": [
    "#webscraping padel courts"
   ]
  },
  {
   "cell_type": "code",
   "execution_count": 51,
   "id": "d18ffd3a-15b4-4b32-ae7c-4834d659e1f0",
   "metadata": {},
   "outputs": [],
   "source": [
    "url = 'https://playtomic.com/nl/clubs/grenzallee-padel?utm_source=chatgpt.com'\n",
    "headers = {\n",
    "    \"User-Agent\": \"Mozilla/5.0 (Macintosh; Apple M4; Mac OS X 14_7_5) AppleWebKit/537.36 (KHTML, like Gecko) Chrome/136.0.0.0 Safari/537.36\"\n",
    "}\n",
    "response = requests.get(url, headers = headers)\n",
    "soup = BeautifulSoup(response.content, 'html.parser')"
   ]
  },
  {
   "cell_type": "code",
   "execution_count": 56,
   "id": "ee32a02e-1fba-4d11-be5b-2fbdb8d2b056",
   "metadata": {},
   "outputs": [
    {
     "ename": "RuntimeError",
     "evalue": "Couldn't find the data table. The page may require JS rendering or be blocked.",
     "output_type": "error",
     "traceback": [
      "\u001b[0;31m---------------------------------------------------------------------------\u001b[0m",
      "\u001b[0;31mRuntimeError\u001b[0m                              Traceback (most recent call last)",
      "Cell \u001b[0;32mIn[56], line 3\u001b[0m\n\u001b[1;32m      1\u001b[0m table \u001b[38;5;241m=\u001b[39m soup\u001b[38;5;241m.\u001b[39mselect_one(\u001b[38;5;124m\"\u001b[39m\u001b[38;5;124mtable.dataTable\u001b[39m\u001b[38;5;124m\"\u001b[39m)\n\u001b[1;32m      2\u001b[0m \u001b[38;5;28;01mif\u001b[39;00m table \u001b[38;5;129;01mis\u001b[39;00m \u001b[38;5;28;01mNone\u001b[39;00m:\n\u001b[0;32m----> 3\u001b[0m     \u001b[38;5;28;01mraise\u001b[39;00m \u001b[38;5;167;01mRuntimeError\u001b[39;00m(\u001b[38;5;124m\"\u001b[39m\u001b[38;5;124mCouldn\u001b[39m\u001b[38;5;124m'\u001b[39m\u001b[38;5;124mt find the data table. The page may require JS rendering or be blocked.\u001b[39m\u001b[38;5;124m\"\u001b[39m)\n",
      "\u001b[0;31mRuntimeError\u001b[0m: Couldn't find the data table. The page may require JS rendering or be blocked."
     ]
    }
   ],
   "source": [
    "table = soup.select_one(\"table.dataTable\")\n",
    "if table is None:\n",
    "    raise RuntimeError(\"Couldn't find the data table. The page may require JS rendering or be blocked.\")"
   ]
  },
  {
   "cell_type": "code",
   "execution_count": null,
   "id": "434acd1d-8f5c-4341-b131-8a54939325e0",
   "metadata": {},
   "outputs": [],
   "source": []
  },
  {
   "cell_type": "code",
   "execution_count": null,
   "id": "406bdc30-9094-4e5e-baef-a37febb3aeef",
   "metadata": {},
   "outputs": [],
   "source": [
    "#disposable income manual input based on website"
   ]
  },
  {
   "cell_type": "code",
   "execution_count": 49,
   "id": "dcec8004-10f7-448a-ab12-cd27b5cddf77",
   "metadata": {},
   "outputs": [],
   "source": [
    "diposable_income_ph_pc = [\n",
    "    (\"Bavaria\",                         31525),\n",
    "    (\"Baden-Württemberg\",               30242),\n",
    "    (\"Hamburg\",                         29620),\n",
    "    (\"Schleswig-Holstein\",              29395),\n",
    "    (\"Hesse\",                           28826),\n",
    "    (\"Germany\",                         28452),\n",
    "    (\"Rhineland-Palatinate\",            28005),\n",
    "    (\"North Rhine-Westphalia\",          27754),\n",
    "    (\"Lower Saxony\",                    27536),\n",
    "    (\"Brandenburg\",                     26440),\n",
    "    (\"Berlin\",                          26209),\n",
    "    (\"Saarland\",                        26168),\n",
    "    (\"Bremen\",                          26048),\n",
    "    (\"Saxony\",                          25746),\n",
    "    (\"Thuringia\",                       25736),\n",
    "    (\"Mecklenburg-Western Pomerania\",   25321),\n",
    "    (\"Saxony-Anhalt\",                   25094),\n",
    "]\n",
    "\n",
    "disposable_income = pd.DataFrame(diposable_income_ph_pc, columns=[\"State\", \"Disposable_Income\"])\n"
   ]
  },
  {
   "cell_type": "code",
   "execution_count": 57,
   "id": "663a4fd4-af37-469b-8abb-e47a1952cec4",
   "metadata": {},
   "outputs": [
    {
     "data": {
      "text/html": [
       "<div>\n",
       "<style scoped>\n",
       "    .dataframe tbody tr th:only-of-type {\n",
       "        vertical-align: middle;\n",
       "    }\n",
       "\n",
       "    .dataframe tbody tr th {\n",
       "        vertical-align: top;\n",
       "    }\n",
       "\n",
       "    .dataframe thead th {\n",
       "        text-align: right;\n",
       "    }\n",
       "</style>\n",
       "<table border=\"1\" class=\"dataframe\">\n",
       "  <thead>\n",
       "    <tr style=\"text-align: right;\">\n",
       "      <th></th>\n",
       "      <th>State</th>\n",
       "      <th>Disposable_Income</th>\n",
       "    </tr>\n",
       "  </thead>\n",
       "  <tbody>\n",
       "    <tr>\n",
       "      <th>0</th>\n",
       "      <td>Bavaria</td>\n",
       "      <td>31525</td>\n",
       "    </tr>\n",
       "    <tr>\n",
       "      <th>1</th>\n",
       "      <td>Baden-Württemberg</td>\n",
       "      <td>30242</td>\n",
       "    </tr>\n",
       "    <tr>\n",
       "      <th>2</th>\n",
       "      <td>Hamburg</td>\n",
       "      <td>29620</td>\n",
       "    </tr>\n",
       "    <tr>\n",
       "      <th>3</th>\n",
       "      <td>Schleswig-Holstein</td>\n",
       "      <td>29395</td>\n",
       "    </tr>\n",
       "    <tr>\n",
       "      <th>4</th>\n",
       "      <td>Hesse</td>\n",
       "      <td>28826</td>\n",
       "    </tr>\n",
       "    <tr>\n",
       "      <th>5</th>\n",
       "      <td>Germany</td>\n",
       "      <td>28452</td>\n",
       "    </tr>\n",
       "    <tr>\n",
       "      <th>6</th>\n",
       "      <td>Rhineland-Palatinate</td>\n",
       "      <td>28005</td>\n",
       "    </tr>\n",
       "    <tr>\n",
       "      <th>7</th>\n",
       "      <td>North Rhine-Westphalia</td>\n",
       "      <td>27754</td>\n",
       "    </tr>\n",
       "    <tr>\n",
       "      <th>8</th>\n",
       "      <td>Lower Saxony</td>\n",
       "      <td>27536</td>\n",
       "    </tr>\n",
       "    <tr>\n",
       "      <th>9</th>\n",
       "      <td>Brandenburg</td>\n",
       "      <td>26440</td>\n",
       "    </tr>\n",
       "    <tr>\n",
       "      <th>10</th>\n",
       "      <td>Berlin</td>\n",
       "      <td>26209</td>\n",
       "    </tr>\n",
       "    <tr>\n",
       "      <th>11</th>\n",
       "      <td>Saarland</td>\n",
       "      <td>26168</td>\n",
       "    </tr>\n",
       "    <tr>\n",
       "      <th>12</th>\n",
       "      <td>Bremen</td>\n",
       "      <td>26048</td>\n",
       "    </tr>\n",
       "    <tr>\n",
       "      <th>13</th>\n",
       "      <td>Saxony</td>\n",
       "      <td>25746</td>\n",
       "    </tr>\n",
       "    <tr>\n",
       "      <th>14</th>\n",
       "      <td>Thuringia</td>\n",
       "      <td>25736</td>\n",
       "    </tr>\n",
       "    <tr>\n",
       "      <th>15</th>\n",
       "      <td>Mecklenburg-Western Pomerania</td>\n",
       "      <td>25321</td>\n",
       "    </tr>\n",
       "    <tr>\n",
       "      <th>16</th>\n",
       "      <td>Saxony-Anhalt</td>\n",
       "      <td>25094</td>\n",
       "    </tr>\n",
       "  </tbody>\n",
       "</table>\n",
       "</div>"
      ],
      "text/plain": [
       "                            State  Disposable_Income\n",
       "0                         Bavaria              31525\n",
       "1               Baden-Württemberg              30242\n",
       "2                         Hamburg              29620\n",
       "3              Schleswig-Holstein              29395\n",
       "4                           Hesse              28826\n",
       "5                         Germany              28452\n",
       "6            Rhineland-Palatinate              28005\n",
       "7          North Rhine-Westphalia              27754\n",
       "8                    Lower Saxony              27536\n",
       "9                     Brandenburg              26440\n",
       "10                         Berlin              26209\n",
       "11                       Saarland              26168\n",
       "12                         Bremen              26048\n",
       "13                         Saxony              25746\n",
       "14                      Thuringia              25736\n",
       "15  Mecklenburg-Western Pomerania              25321\n",
       "16                  Saxony-Anhalt              25094"
      ]
     },
     "execution_count": 57,
     "metadata": {},
     "output_type": "execute_result"
    }
   ],
   "source": [
    "disposable_income"
   ]
  },
  {
   "cell_type": "code",
   "execution_count": null,
   "id": "8ffb52f5-ec5c-42d0-a756-2e9323c5577e",
   "metadata": {},
   "outputs": [],
   "source": []
  }
 ],
 "metadata": {
  "kernelspec": {
   "display_name": "Python 3 (ipykernel)",
   "language": "python",
   "name": "python3"
  },
  "language_info": {
   "codemirror_mode": {
    "name": "ipython",
    "version": 3
   },
   "file_extension": ".py",
   "mimetype": "text/x-python",
   "name": "python",
   "nbconvert_exporter": "python",
   "pygments_lexer": "ipython3",
   "version": "3.13.5"
  }
 },
 "nbformat": 4,
 "nbformat_minor": 5
}
